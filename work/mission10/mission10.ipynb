{
 "cells": [
  {
   "cell_type": "code",
   "execution_count": null,
   "metadata": {},
   "outputs": [],
   "source": [
    "\n",
    "import pymysql\n",
    "\n",
    "#建立連線\n",
    "AAA = pymysql.connect(host='192.168.183.135',user='root',passwd='iii',db='mission10db')\n",
    "#依序：the hostname, the MySQL user name, the password, and the database name.\n",
    "#2種寫法，不能混搭\n",
    "# AAA = pymysql.connect('localhost', 'root', 'iii', 'mission10db')\n",
    "#另一種寫法：AAA = pymysql.connect(host='127.0.0.1', port=3306, user='root', passwd='1234', db='testdb', charset='utf8')\n",
    "\n",
    "cursor = AAA.cursor()\n",
    "#創建一個游標?!\n",
    "\n",
    "#創建資料表\n",
    "cursor.execute(\"CREATE table classmate(ID integer auto_increment primary key , name varchar(255))\")\n",
    "#execute表示為執行、使用SQL語法、語句\n",
    "#一般：CREATE table table名稱(欄位名稱 資料類別(字元限制),欄位名稱 資料類別(字元限制),...)#目前已知char和varchar要輸入字元限制\n",
    "#另外：CREATE table table名稱(欄位名稱 資料類別 自動遞增資料行的值 主key,)\n",
    "#auto_increment primary key這兩段要搭配，否則會有錯誤!?\n",
    "#可以這樣搭配ID integer auto_increment,...,...,...,...,primary key\n",
    "\n",
    "\n",
    "\n",
    "#插入資料\n",
    "cursor.execute(\"INSERT INTO classmate(name) values('kiwi'),('LBH')\")\n",
    "#這是往欄位內容放資料，另外增加欄位的是alter table\n",
    "#插入資料 資料表名稱 (欄位1,欄位2,...) values(值1,值2,...)\n",
    "#欄位1會對應值1，欄位2會對應值2，可以簡寫不寫欄位名稱，一樣會對應到\n",
    "\n",
    "#提交資料\n",
    "AAA.commit()\n",
    "\n",
    "#查詢資料\n",
    "cursor.execute(\"select name from classmate\")\n",
    "#選擇/查詢 欄位名稱 from 資料表名稱\n",
    "\n",
    "#關閉游標\n",
    "cursor.close()\n",
    "#關閉連線\n",
    "#錯誤的東西?!\n",
    "# connect.close()\n",
    "\n",
    "\n",
    "#execute後面的括號內要加雙引號"
   ]
  }
 ],
 "metadata": {
  "kernelspec": {
   "display_name": "Python 3",
   "language": "python",
   "name": "python3"
  },
  "language_info": {
   "codemirror_mode": {
    "name": "ipython",
    "version": 3
   },
   "file_extension": ".py",
   "mimetype": "text/x-python",
   "name": "python",
   "nbconvert_exporter": "python",
   "pygments_lexer": "ipython3",
   "version": "3.7.1"
  }
 },
 "nbformat": 4,
 "nbformat_minor": 2
}
