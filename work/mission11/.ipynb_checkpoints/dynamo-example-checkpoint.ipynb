{
 "cells": [
  {
   "cell_type": "code",
   "execution_count": 2,
   "metadata": {
    "scrolled": true
   },
   "outputs": [
    {
     "name": "stdout",
     "output_type": "stream",
     "text": [
      "0\n"
     ]
    }
   ],
   "source": [
    "#偷看了大雄的mission，要先建立本地端的dynamodb，不然現在也沒得連線到aws上面去?!\n",
    "#艮，那官網的是寫爽的??\n",
    "#理解上有點混亂\n",
    "\n",
    "import boto3\n",
    "\n",
    "\n",
    "\n",
    "# Get the service resource.\n",
    "AAA = boto3.resource(\n",
    "    'dynamodb',\n",
    "#這個dynamodb是特定名詞，把它改別個會出現錯誤，但也會列舉出可以用的名詞\n",
    "    endpoint_url='http://cc104.dynamodb.local:8000',\n",
    "# #output = json,\n",
    "    region_name = 'ap-northeast-1',\n",
    "    aws_access_key_id = 'dummy_whatever_id',\n",
    "    aws_secret_access_key = 'dummy_whatever_key',\n",
    "    verify = False )\n",
    "                    \n",
    "BBB = AAA.Table('cc104')\n",
    "\n",
    "BBB.delete()\n",
    "\n",
    "\n",
    "# Create the DynamoDB table.\n",
    "#以下有部份難以判斷哪些是專有名詞哪些是自定義名詞\n",
    "TTT = AAA.create_table(\n",
    "    TableName = 'cc104',\n",
    "    KeySchema=[\n",
    "        {\n",
    "            'AttributeName': 'username',\n",
    "            'KeyType': 'HASH'\n",
    "        },\n",
    "        {\n",
    "            'AttributeName': 'last_name',\n",
    "            'KeyType': 'RANGE'\n",
    "        }\n",
    "    ],\n",
    "    AttributeDefinitions=[\n",
    "        {\n",
    "            'AttributeName': 'username',\n",
    "            'AttributeType': 'S'\n",
    "        },\n",
    "        {\n",
    "            'AttributeName': 'last_name',\n",
    "            'AttributeType': 'S'\n",
    "        },\n",
    "\n",
    "    ],\n",
    "    ProvisionedThroughput={\n",
    "        'ReadCapacityUnits': 5,\n",
    "        'WriteCapacityUnits': 5\n",
    "    }\n",
    ")\n",
    "\n",
    "# Wait until the table exists.\n",
    "TTT.meta.client.get_waiter('table_exists').wait(TableName='cc104')\n",
    "\n",
    "# Print out some data about the table.\n",
    "print(TTT.item_count)\n",
    "\n",
    "\n"
   ]
  },
  {
   "cell_type": "code",
   "execution_count": 8,
   "metadata": {},
   "outputs": [
    {
     "name": "stdout",
     "output_type": "stream",
     "text": [
      "2019-01-31 06:56:50.288000+00:00\n",
      "\n",
      "{'last_name': 'L', 'account_type': 'Magician', 'first_name': 'BH', 'age': Decimal('28'), 'username': 'chickenleg'}\n"
     ]
    }
   ],
   "source": [
    "#避免已經創建過的資料表無法再次創建而要砍掉重創，做個上下分開，並把刪除資料表的指令註解\n",
    "\n",
    "#使用上面創建的資料表\n",
    "#感覺下面這一行很重要，每一個名詞對應到誰都可以在這裡看到\n",
    "TTT = AAA.Table('cc104')\n",
    "#列出創建的時間(基本上是現在/剛剛的時間，不過時區不一樣...)\n",
    "print(TTT.creation_date_time)\n",
    "print('')\n",
    "\n",
    "#Creating a New Item\n",
    "TTT.put_item(\n",
    "   Item={\n",
    "        'username': 'chickenleg',\n",
    "        'first_name': 'BH',\n",
    "        'last_name': 'L',\n",
    "        'age': 28,\n",
    "        'account_type': 'Magician',\n",
    "    }\n",
    ")\n",
    "\n",
    "#檢視item\n",
    "GGG = TTT.get_item(\n",
    "    Key={\n",
    "        'username': 'chickenleg',\n",
    "        'last_name': 'L'\n",
    "    }\n",
    ")\n",
    "G = GGG['Item']\n",
    "print(G)\n",
    "\n"
   ]
  },
  {
   "cell_type": "code",
   "execution_count": 9,
   "metadata": {},
   "outputs": [
    {
     "name": "stdout",
     "output_type": "stream",
     "text": [
      "2\n",
      "1\n",
      "{'last_name': 'lai', 'account_type': 'hahaha', 'first_name': 'wei cheng', 'age': Decimal('25'), 'username': 'kiwi'}\n"
     ]
    }
   ],
   "source": [
    "#Updating Item\n",
    "#更新/更改資料內容\n",
    "#留著備用\n",
    "# table.update_item(\n",
    "#     Key={\n",
    "#         'username': 'janedoe',\n",
    "#         'last_name': 'Doe'\n",
    "#     },\n",
    "#     UpdateExpression='SET age = :val1',\n",
    "#     ExpressionAttributeValues={\n",
    "#         ':val1': 26\n",
    "#     }\n",
    "# )\n",
    "\n",
    "# AAA = boto3.resource('dynamodb', region_name='ap-northeast-1', endpoint_url=\"http://cc104.dynamodb.local:8000\",verify = False)\n",
    "# TTT = AAA.Table('cc104')\n",
    "\n",
    "#在刪除之前多增加一些內容\n",
    "TTT.put_item(\n",
    "   Item={\n",
    "        'username': 'kiwi',\n",
    "        'first_name': 'wei cheng',\n",
    "        'last_name': 'lai',\n",
    "        'age': 25,\n",
    "        'account_type': 'hahaha',\n",
    "    }\n",
    ")\n",
    "\n",
    "print(TTT.item_count)\n",
    "\n",
    "#Deleting Item\n",
    "TTT.delete_item(\n",
    "    Key={\n",
    "        'username': 'chickenleg',\n",
    "        'last_name': 'L'\n",
    "    }\n",
    ")\n",
    "\n",
    "print(TTT.item_count)\n",
    "\n",
    "#檢視\n",
    "# GGG = TTT.get_item(\n",
    "#     Key={\n",
    "#         'username': 'chickenleg',\n",
    "#         'last_name': 'L'\n",
    "#     }\n",
    "# )\n",
    "# G = GGG['Item']\n",
    "# print(G)\n",
    "\n",
    "GGG = TTT.get_item(\n",
    "    Key={\n",
    "        'username': 'kiwi',\n",
    "        'last_name': 'lai'\n",
    "    }\n",
    ")\n",
    "G = GGG['Item']\n",
    "print(G)"
   ]
  }
 ],
 "metadata": {
  "kernelspec": {
   "display_name": "Python 3",
   "language": "python",
   "name": "python3"
  },
  "language_info": {
   "codemirror_mode": {
    "name": "ipython",
    "version": 3
   },
   "file_extension": ".py",
   "mimetype": "text/x-python",
   "name": "python",
   "nbconvert_exporter": "python",
   "pygments_lexer": "ipython3",
   "version": "3.7.1"
  }
 },
 "nbformat": 4,
 "nbformat_minor": 2
}
