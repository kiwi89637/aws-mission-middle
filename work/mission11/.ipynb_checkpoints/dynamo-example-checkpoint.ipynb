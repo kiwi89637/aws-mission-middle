{
 "cells": [
  {
   "cell_type": "code",
   "execution_count": 23,
   "metadata": {
    "scrolled": true
   },
   "outputs": [
    {
     "name": "stdout",
     "output_type": "stream",
     "text": [
      "0\n"
     ]
    }
   ],
   "source": [
    "#偷看了大雄的mission，要先建立本地端的dynamodb，不然現在也沒得連線到aws上面去?!\n",
    "#艮，那官網的是寫爽的??\n",
    "#理解上有點混亂\n",
    "\n",
    "import boto3\n",
    "\n",
    "\n",
    "\n",
    "# Get the service resource.\n",
    "AAA = boto3.resource(\n",
    "    'dynamodb',\n",
    "    endpoint_url='http://cc104.dynamodb.local:8000',\n",
    "# #output = json,\n",
    "    region_name = 'ap-northeast-1',\n",
    "    aws_access_key_id = 'dummy_whatever_id',\n",
    "    aws_secret_access_key = 'dummy_whatever_key',\n",
    "    verify = False )\n",
    "                    \n",
    "BBB = AAA.Table('cc104')\n",
    "\n",
    "BBB.delete()\n",
    "\n",
    "\n",
    "# Create the DynamoDB table.\n",
    "#以下有部份難以判斷哪些是專有名詞哪些是自定義名詞\n",
    "TTT = AAA.create_table(\n",
    "    TableName = 'cc104',\n",
    "    KeySchema=[\n",
    "        {\n",
    "            'AttributeName': 'username',\n",
    "            'KeyType': 'HASH'\n",
    "        },\n",
    "        {\n",
    "            'AttributeName': 'last_name',\n",
    "            'KeyType': 'RANGE'\n",
    "        }\n",
    "    ],\n",
    "    AttributeDefinitions=[\n",
    "        {\n",
    "            'AttributeName': 'username',\n",
    "            'AttributeType': 'S'\n",
    "        },\n",
    "        {\n",
    "            'AttributeName': 'last_name',\n",
    "            'AttributeType': 'S'\n",
    "        },\n",
    "\n",
    "    ],\n",
    "    ProvisionedThroughput={\n",
    "        'ReadCapacityUnits': 5,\n",
    "        'WriteCapacityUnits': 5\n",
    "    }\n",
    ")\n",
    "\n",
    "# Wait until the table exists.\n",
    "table.meta.client.get_waiter('table_exists').wait(TableName='cc104')\n",
    "\n",
    "# Print out some data about the table.\n",
    "print(table.item_count)"
   ]
  }
 ],
 "metadata": {
  "kernelspec": {
   "display_name": "Python 3",
   "language": "python",
   "name": "python3"
  },
  "language_info": {
   "codemirror_mode": {
    "name": "ipython",
    "version": 3
   },
   "file_extension": ".py",
   "mimetype": "text/x-python",
   "name": "python",
   "nbconvert_exporter": "python",
   "pygments_lexer": "ipython3",
   "version": "3.7.1"
  }
 },
 "nbformat": 4,
 "nbformat_minor": 2
}
